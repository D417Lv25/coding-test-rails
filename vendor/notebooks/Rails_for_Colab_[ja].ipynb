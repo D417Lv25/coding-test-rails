{
  "nbformat": 4,
  "nbformat_minor": 0,
  "metadata": {
    "colab": {
      "name": "Rails for Colab [ja].ipynb",
      "version": "0.3.2",
      "provenance": [],
      "collapsed_sections": []
    },
    "kernelspec": {
      "name": "python3",
      "display_name": "Python 3"
    }
  },
  "cells": [
    {
      "cell_type": "markdown",
      "metadata": {
        "id": "Zq_sime-9SUz",
        "colab_type": "text"
      },
      "source": [
        "# Colab環境でRailsのコーディングテストを行う\n",
        "\n",
        "- Qiita記事: https://qiita.com/jerrywdlee/items/a3000990c50933e66871\n",
        "- ソースコード: https://github.com/jerrywdlee/coding-test-rails"
      ]
    },
    {
      "cell_type": "markdown",
      "metadata": {
        "id": "v03lATxZ9geH",
        "colab_type": "text"
      },
      "source": [
        "## 環境構築"
      ]
    },
    {
      "cell_type": "code",
      "metadata": {
        "id": "0m2SjTmG9f66",
        "colab_type": "code",
        "colab": {}
      },
      "source": [
        "# Ruby環境構築\n",
        "!apt update -y\n",
        "!apt install -y -qq ruby\n",
        "\n",
        "# 以降はRails用\n",
        "!apt install -y -qq ruby-dev make sqlite3 libsqlite3-dev\n",
        "# !apt install libtool libffi-dev libzmq3-dev libczmq-dev\n",
        "!gem install --no-ri --no-rdoc bundler"
      ],
      "execution_count": 0,
      "outputs": []
    },
    {
      "cell_type": "code",
      "metadata": {
        "id": "nwv-1uys9JTm",
        "colab_type": "code",
        "outputId": "e37b8e34-611a-4a83-bdb8-697f7c98af34",
        "colab": {
          "base_uri": "https://localhost:8080/",
          "height": 51
        }
      },
      "source": [
        "# SQL文のテストもスムーズに行えるためのSQlite環境設定\n",
        "%%bash\n",
        "\n",
        "cat << SQLITERC > ~/.sqliterc\n",
        ".header on\n",
        ".mode column\n",
        "SQLITERC\n",
        "\n",
        "cat ~/.sqliterc"
      ],
      "execution_count": 2,
      "outputs": [
        {
          "output_type": "stream",
          "text": [
            ".header on\n",
            ".mode column\n"
          ],
          "name": "stdout"
        }
      ]
    },
    {
      "cell_type": "code",
      "metadata": {
        "id": "PXfRNzBK-IRA",
        "colab_type": "code",
        "colab": {}
      },
      "source": [
        "# RailsサンプルのClone\n",
        "!git clone https://github.com/jerrywdlee/coding-test-rails.git"
      ],
      "execution_count": 0,
      "outputs": []
    },
    {
      "cell_type": "code",
      "metadata": {
        "id": "3mikvlix-ew0",
        "colab_type": "code",
        "outputId": "6ca01ab3-e344-49b7-9017-d1e8b6e016ab",
        "colab": {
          "base_uri": "https://localhost:8080/",
          "height": 34
        }
      },
      "source": [
        "# デフォルトのDirの移動(「!」がいらない)\n",
        "cd coding-test-rails"
      ],
      "execution_count": 4,
      "outputs": [
        {
          "output_type": "stream",
          "text": [
            "/content/coding-test-rails\n"
          ],
          "name": "stdout"
        }
      ]
    },
    {
      "cell_type": "code",
      "metadata": {
        "id": "9tM4RBuc-Yv5",
        "colab_type": "code",
        "colab": {}
      },
      "source": [
        "# Rails環境構築(遅い)\n",
        "!bundle install\n",
        "# !bundle exec rails db:drop\n",
        "!bundle exec rails db:create\n",
        "!bundle exec rake db:migrate"
      ],
      "execution_count": 0,
      "outputs": []
    },
    {
      "cell_type": "code",
      "metadata": {
        "id": "OlF1ew0o-tWV",
        "colab_type": "code",
        "outputId": "361526e1-8e3c-4a07-b875-9eeaa9e6a570",
        "colab": {
          "base_uri": "https://localhost:8080/",
          "height": 68
        }
      },
      "source": [
        "# Rails環境確認\n",
        "%%bash\n",
        "\n",
        "cat << RUBY > tmp/script.rb\n",
        "puts \"Rails v#{Rails.version}\"\n",
        "puts \"Env: #{Rails.env}\"\n",
        "RUBY\n",
        "\n",
        "# cat tmp/script.rb\n",
        "bundle exec rails runner tmp/script.rb"
      ],
      "execution_count": 6,
      "outputs": [
        {
          "output_type": "stream",
          "text": [
            "Rails v6.0.0\n",
            "Env: development\n"
          ],
          "name": "stdout"
        },
        {
          "output_type": "stream",
          "text": [
            "Running via Spring preloader in process 15336\n"
          ],
          "name": "stderr"
        }
      ]
    },
    {
      "cell_type": "code",
      "metadata": {
        "id": "wNXTDodK-vba",
        "colab_type": "code",
        "outputId": "57db91e5-b1d8-487f-9e93-57a57c7ab43c",
        "colab": {
          "base_uri": "https://localhost:8080/",
          "height": 68
        }
      },
      "source": [
        "# SQL環境確認\n",
        "%%bash\n",
        "\n",
        "cat << SQL > tmp/sql_code.sql\n",
        "SELECT 1+1;\n",
        "SQL\n",
        "\n",
        "# cat tmp/sql_code.sql\n",
        "cat tmp/sql_code.sql | bundle exec rails db"
      ],
      "execution_count": 7,
      "outputs": [
        {
          "output_type": "stream",
          "text": [
            "1+1       \n",
            "----------\n",
            "2         \n"
          ],
          "name": "stdout"
        }
      ]
    },
    {
      "cell_type": "code",
      "metadata": {
        "id": "XdfEj2aF-yt6",
        "colab_type": "code",
        "outputId": "460f8b01-0741-44e8-a1e6-b4595d0b62ca",
        "colab": {
          "base_uri": "https://localhost:8080/",
          "height": 238
        }
      },
      "source": [
        "# データCSVの作成(Python)\n",
        "import seaborn as sns\n",
        "\n",
        "# タイタニック号の生死者データ\n",
        "titanic = sns.load_dataset(\"titanic\")\n",
        "display (titanic.head(5))\n",
        "\n",
        "titanic.to_csv(\"tmp/titanic.csv\", index=False)\n",
        "# titanic.head(100).to_csv(\"tmp/titanic.csv\", index=False)\n",
        "\n",
        "!ls -la tmp/*.csv\n",
        "!wc -l tmp/*.csv"
      ],
      "execution_count": 8,
      "outputs": [
        {
          "output_type": "display_data",
          "data": {
            "text/html": [
              "<div>\n",
              "<style scoped>\n",
              "    .dataframe tbody tr th:only-of-type {\n",
              "        vertical-align: middle;\n",
              "    }\n",
              "\n",
              "    .dataframe tbody tr th {\n",
              "        vertical-align: top;\n",
              "    }\n",
              "\n",
              "    .dataframe thead th {\n",
              "        text-align: right;\n",
              "    }\n",
              "</style>\n",
              "<table border=\"1\" class=\"dataframe\">\n",
              "  <thead>\n",
              "    <tr style=\"text-align: right;\">\n",
              "      <th></th>\n",
              "      <th>survived</th>\n",
              "      <th>pclass</th>\n",
              "      <th>sex</th>\n",
              "      <th>age</th>\n",
              "      <th>sibsp</th>\n",
              "      <th>parch</th>\n",
              "      <th>fare</th>\n",
              "      <th>embarked</th>\n",
              "      <th>class</th>\n",
              "      <th>who</th>\n",
              "      <th>adult_male</th>\n",
              "      <th>deck</th>\n",
              "      <th>embark_town</th>\n",
              "      <th>alive</th>\n",
              "      <th>alone</th>\n",
              "    </tr>\n",
              "  </thead>\n",
              "  <tbody>\n",
              "    <tr>\n",
              "      <th>0</th>\n",
              "      <td>0</td>\n",
              "      <td>3</td>\n",
              "      <td>male</td>\n",
              "      <td>22.0</td>\n",
              "      <td>1</td>\n",
              "      <td>0</td>\n",
              "      <td>7.2500</td>\n",
              "      <td>S</td>\n",
              "      <td>Third</td>\n",
              "      <td>man</td>\n",
              "      <td>True</td>\n",
              "      <td>NaN</td>\n",
              "      <td>Southampton</td>\n",
              "      <td>no</td>\n",
              "      <td>False</td>\n",
              "    </tr>\n",
              "    <tr>\n",
              "      <th>1</th>\n",
              "      <td>1</td>\n",
              "      <td>1</td>\n",
              "      <td>female</td>\n",
              "      <td>38.0</td>\n",
              "      <td>1</td>\n",
              "      <td>0</td>\n",
              "      <td>71.2833</td>\n",
              "      <td>C</td>\n",
              "      <td>First</td>\n",
              "      <td>woman</td>\n",
              "      <td>False</td>\n",
              "      <td>C</td>\n",
              "      <td>Cherbourg</td>\n",
              "      <td>yes</td>\n",
              "      <td>False</td>\n",
              "    </tr>\n",
              "    <tr>\n",
              "      <th>2</th>\n",
              "      <td>1</td>\n",
              "      <td>3</td>\n",
              "      <td>female</td>\n",
              "      <td>26.0</td>\n",
              "      <td>0</td>\n",
              "      <td>0</td>\n",
              "      <td>7.9250</td>\n",
              "      <td>S</td>\n",
              "      <td>Third</td>\n",
              "      <td>woman</td>\n",
              "      <td>False</td>\n",
              "      <td>NaN</td>\n",
              "      <td>Southampton</td>\n",
              "      <td>yes</td>\n",
              "      <td>True</td>\n",
              "    </tr>\n",
              "    <tr>\n",
              "      <th>3</th>\n",
              "      <td>1</td>\n",
              "      <td>1</td>\n",
              "      <td>female</td>\n",
              "      <td>35.0</td>\n",
              "      <td>1</td>\n",
              "      <td>0</td>\n",
              "      <td>53.1000</td>\n",
              "      <td>S</td>\n",
              "      <td>First</td>\n",
              "      <td>woman</td>\n",
              "      <td>False</td>\n",
              "      <td>C</td>\n",
              "      <td>Southampton</td>\n",
              "      <td>yes</td>\n",
              "      <td>False</td>\n",
              "    </tr>\n",
              "    <tr>\n",
              "      <th>4</th>\n",
              "      <td>0</td>\n",
              "      <td>3</td>\n",
              "      <td>male</td>\n",
              "      <td>35.0</td>\n",
              "      <td>0</td>\n",
              "      <td>0</td>\n",
              "      <td>8.0500</td>\n",
              "      <td>S</td>\n",
              "      <td>Third</td>\n",
              "      <td>man</td>\n",
              "      <td>True</td>\n",
              "      <td>NaN</td>\n",
              "      <td>Southampton</td>\n",
              "      <td>no</td>\n",
              "      <td>True</td>\n",
              "    </tr>\n",
              "  </tbody>\n",
              "</table>\n",
              "</div>"
            ],
            "text/plain": [
              "   survived  pclass     sex   age  ...  deck  embark_town  alive  alone\n",
              "0         0       3    male  22.0  ...   NaN  Southampton     no  False\n",
              "1         1       1  female  38.0  ...     C    Cherbourg    yes  False\n",
              "2         1       3  female  26.0  ...   NaN  Southampton    yes   True\n",
              "3         1       1  female  35.0  ...     C  Southampton    yes  False\n",
              "4         0       3    male  35.0  ...   NaN  Southampton     no   True\n",
              "\n",
              "[5 rows x 15 columns]"
            ]
          },
          "metadata": {
            "tags": []
          }
        },
        {
          "output_type": "stream",
          "text": [
            "-rw-r--r-- 1 root root 57018 Sep 13 06:04 tmp/titanic.csv\n",
            "892 tmp/titanic.csv\n"
          ],
          "name": "stdout"
        }
      ]
    },
    {
      "cell_type": "code",
      "metadata": {
        "id": "o-o6e17k_GUW",
        "colab_type": "code",
        "outputId": "176dac73-0d03-488c-e213-9661fad59350",
        "colab": {
          "base_uri": "https://localhost:8080/",
          "height": 51
        }
      },
      "source": [
        "# サンプルCSVをRailsにインポート\n",
        "!bundle exec rails runner 'DataImport.load_csv \"tmp/titanic.csv\"'"
      ],
      "execution_count": 9,
      "outputs": [
        {
          "output_type": "stream",
          "text": [
            "Running via Spring preloader in process 15368\n",
            "891 passengers inseted!\n"
          ],
          "name": "stdout"
        }
      ]
    },
    {
      "cell_type": "markdown",
      "metadata": {
        "id": "4uysiysK_m-6",
        "colab_type": "text"
      },
      "source": [
        "## 質問"
      ]
    },
    {
      "cell_type": "markdown",
      "metadata": {
        "id": "XkBf9y24_wD1",
        "colab_type": "text"
      },
      "source": [
        "### 1.タイタニック号乗客の生還率を求めなさい\n",
        "*生還率: 生存した乗客数 / 乗客の総数*  \n",
        "\n",
        "*ソースコードは下記のリンクで確認できます*  \n",
        "*https://github.com/jerrywdlee/coding-test-rails*"
      ]
    },
    {
      "cell_type": "code",
      "metadata": {
        "id": "AyFFFapD_pxv",
        "colab_type": "code",
        "outputId": "ccdc085c-3364-421d-e30c-7ab8a84197f2",
        "colab": {
          "base_uri": "https://localhost:8080/",
          "height": 51
        }
      },
      "source": [
        "# Rails Ver.\n",
        "%%bash\n",
        "\n",
        "cat << RUBY > tmp/script.rb\n",
        "\n",
        "# ここからはRailsコードです\n",
        "\n",
        "alive_cnt = Passenger.alive.size\n",
        "ttl_cnt =  Passenger.all.size\n",
        "puts \"Survival Rate: #{(alive_cnt.to_f * 100 / ttl_cnt).round(1)}%\"\n",
        "\n",
        "# ここまではRailsコードです\n",
        "\n",
        "RUBY\n",
        "\n",
        "bundle exec rails runner tmp/script.rb"
      ],
      "execution_count": 10,
      "outputs": [
        {
          "output_type": "stream",
          "text": [
            "Survival Rate: 38.4%\n"
          ],
          "name": "stdout"
        },
        {
          "output_type": "stream",
          "text": [
            "Running via Spring preloader in process 15418\n"
          ],
          "name": "stderr"
        }
      ]
    },
    {
      "cell_type": "code",
      "metadata": {
        "id": "OP0v6540Agoq",
        "colab_type": "code",
        "outputId": "3d5ef61a-c6b0-4689-fdc0-c2176a880efc",
        "colab": {
          "base_uri": "https://localhost:8080/",
          "height": 68
        }
      },
      "source": [
        "# SQL Ver.\n",
        "%%bash\n",
        "\n",
        "cat << SQL > tmp/sql_code.sql\n",
        "\n",
        "-- ここからはSQL文です\n",
        "\n",
        "SELECT\n",
        "  (alive_cnt * 1.0 / ttl_cnt) AS survival_rate\n",
        "FROM\n",
        "(\n",
        "  SELECT COUNT(*) AS alive_cnt FROM passengers WHERE survived = 1\n",
        ") AS alive,\n",
        "(\n",
        "  SELECT COUNT(*) AS ttl_cnt FROM passengers\n",
        ") AS ttl;\n",
        "\n",
        "-- ここまではSQL文です\n",
        "\n",
        "SQL\n",
        "\n",
        "cat tmp/sql_code.sql | bundle exec rails db"
      ],
      "execution_count": 11,
      "outputs": [
        {
          "output_type": "stream",
          "text": [
            "survival_rate    \n",
            "-----------------\n",
            "0.383838383838384\n"
          ],
          "name": "stdout"
        }
      ]
    }
  ]
}